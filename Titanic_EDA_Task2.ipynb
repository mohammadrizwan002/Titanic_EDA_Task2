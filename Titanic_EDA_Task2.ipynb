# Titanic Dataset EDA 

import pandas as pd
import seaborn as sns
import matplotlib.pyplot as plt

# Load dataset (your file is named titanic.csv.csv)
df = pd.read_csv("titanic.csv.csv")

# Head of dataset
print("Head of dataset:")
print(df.head())

# Dataset info
print("\nDataset Info:")
df.info()

# Summary statistics
print("\nSummary Statistics:")
print(df.describe(include='all'))

# Null values
print("\nMissing values:")
print(df.isnull().sum())

# Fill missing values
df['Age'].fillna(df['Age'].median(), inplace=True)
df['Embarked'].fillna(df['Embarked'].mode()[0], inplace=True)
df.drop('Cabin', axis=1, inplace=True)

# Histograms
df.hist(bins=20, figsize=(12, 10), color='skyblue')
plt.suptitle("Histograms of Numeric Features")
plt.show()

# Boxplots
sns.boxplot(data=df[['Age', 'Fare']])
plt.title("Boxplots for Age and Fare")
plt.show()

# Correlation matrix (numeric columns only)
numeric_cols = df.select_dtypes(include=['number'])
plt.figure(figsize=(8, 6))
sns.heatmap(numeric_cols.corr(), annot=True, cmap='coolwarm')
plt.title("Correlation Matrix")
plt.show()

# Pairplot (selected columns)
sns.pairplot(df[['Age', 'Fare', 'Pclass', 'Survived']], hue='Survived')
plt.suptitle("Pairplot of Selected Features", y=1.02)
plt.show()

# Categorical Visuals
sns.countplot(data=df, x='Survived')
plt.title("Survival Count")
plt.show()

sns.countplot(data=df, x='Pclass', hue='Survived')
plt.title("Survival by Class")
plt.show()

sns.countplot(data=df, x='Sex', hue='Survived')
plt.title("Survival by Gender")
plt.show()
